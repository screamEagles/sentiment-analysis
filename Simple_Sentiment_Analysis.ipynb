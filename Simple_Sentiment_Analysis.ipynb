{
  "nbformat": 4,
  "nbformat_minor": 0,
  "metadata": {
    "colab": {
      "provenance": []
    },
    "kernelspec": {
      "name": "python3",
      "display_name": "Python 3"
    },
    "language_info": {
      "name": "python"
    }
  },
  "cells": [
    {
      "cell_type": "code",
      "execution_count": 2,
      "metadata": {
        "colab": {
          "base_uri": "https://localhost:8080/",
          "height": 487
        },
        "id": "jVOaKmu4ZSNQ",
        "outputId": "309f7fe1-6d74-43d4-aa7c-06f4d9100a0b"
      },
      "outputs": [
        {
          "output_type": "stream",
          "name": "stdout",
          "text": [
            "Enter something: The Supreme Court (SC) on Friday struck down the Supreme Court (Review of Judgments and Orders) Act 2023, which expands the scope of a review petition, terming it to be unconstitutional.  A three-member SC bench had reserved its verdict in the case on June 19 with an observation that decision on the case would determine the fate of the Election Commission of Pakistan’s (ECP) review against April 4 verdict of fixing May 14 as the date for holding Punjab Assembly elections.  The CJP had also observed that the court welcomes and accepts that there should be remedy to the orders and judgements issued under Article 184(3) but such remedy should be crafted in accordance with the constitution by adding valid grounds rather than ordinary legislation. Why the government should not consider giving definition of the public importance — an important ingredient — while invoking petitions under Article 184(3), he wondered.  Announcing the reserved verdict today, the SC ruled that the law had no legal value and termed it to be “unconstitutional”. The court further said that Parliament did not have the power to enact such legislation.\n",
            "[' happy', ' average']\n",
            "Counter({' happy': 1, ' average': 1})\n"
          ]
        },
        {
          "output_type": "display_data",
          "data": {
            "text/plain": [
              "<Figure size 640x480 with 1 Axes>"
            ],
            "image/png": "[encoded data removed]"
          },
          "metadata": {}
        }
      ],
      "source": [
        "import string\n",
        "from collections import Counter\n",
        "import matplotlib.pyplot as plt\n",
        "\n",
        "text = input(\"Enter something: \")\n",
        "\n",
        "lower_case = text.lower()\n",
        "cleaned_text = lower_case.translate(str.maketrans('', '', string.punctuation))\n",
        "tokenized_words = cleaned_text.split()\n",
        "\n",
        "stop_words = [\n",
        "    \"i\", \"me\", \"my\", \"myself\", \"we\", \"our\", \"ours\", \"ourselves\", \"you\", \"your\", \"yours\", \"yourself\",\n",
        "    \"yourselves\", \"he\", \"him\", \"his\", \"himself\", \"she\", \"her\", \"hers\", \"herself\", \"it\", \"its\", \"itself\",\n",
        "    \"they\", \"them\", \"their\", \"theirs\", \"themselves\", \"what\", \"which\", \"who\", \"whom\", \"this\", \"that\", \"these\",\n",
        "    \"those\", \"am\", \"is\", \"are\", \"was\", \"were\", \"be\", \"been\", \"being\", \"have\", \"has\", \"had\", \"having\", \"do\",\n",
        "    \"does\", \"did\", \"doing\", \"a\", \"an\", \"the\", \"and\", \"but\", \"if\", \"or\", \"because\", \"as\", \"until\", \"while\",\n",
        "    \"of\", \"at\", \"by\", \"for\", \"with\", \"about\", \"against\", \"between\", \"into\", \"through\", \"during\", \"before\",\n",
        "    \"after\", \"above\", \"below\", \"to\", \"from\", \"up\", \"down\", \"in\", \"out\", \"on\", \"off\", \"over\", \"under\", \"again\",\n",
        "    \"further\", \"then\", \"once\", \"here\", \"there\", \"when\", \"where\", \"why\", \"how\", \"all\", \"any\", \"both\", \"each\",\n",
        "    \"few\", \"more\", \"most\", \"other\", \"some\", \"such\", \"no\", \"nor\", \"not\", \"only\", \"own\", \"same\", \"so\", \"than\",\n",
        "    \"too\", \"very\", \"s\", \"t\", \"can\", \"will\", \"just\", \"don\", \"should\", \"now\", \"want\", \"like\", \"love\", \"hate\",\n",
        "    \"know\", \"think\", \"feel\", \"say\", \"said\", \"get\", \"go\", \"come\", \"see\", \"look\", \"seem\", \"good\", \"bad\", \"well\",\n",
        "    \"much\", \"very\", \"really\", \"even\", \"still\", \"now\", \"too\", \"won't\", \"don't\", \"couldn't\", \"mustn't\", \"might\",\n",
        "    \"should've\", \"must\", \"ought\", \"there's\", \"that's\", \"they're\", \"it's\", \"isn't\", \"aren't\", \"wasn't\", \"weren't\",\n",
        "    \"hadn't\", \"doesn't\", \"can't\", \"shan't\", \"oughtn't\", \"isn't\", \"aren't\", \"wasn't\", \"weren't\", \"haven't\", \"hasn't\",\n",
        "    \"hadn't\", \"doesn't\", \"didn't\", \"can't\", \"wouldn't\", \"shouldn't\"\n",
        "]\n",
        "\n",
        "# Removing stop words from the tokenized words list\n",
        "final_words = []\n",
        "for word in tokenized_words:\n",
        "    if word not in stop_words:\n",
        "        final_words.append(word)\n",
        "\n",
        "# NLP Emotion Algorithm\n",
        "# 1) Check if the word in the final word list is also present in emotion.txt\n",
        "#  - open the emotion file\n",
        "#  - Loop through each line and clear it\n",
        "#  - Extract the word and emotion using split\n",
        "\n",
        "# 2) If word is present -> Add the emotion to emotion_list\n",
        "# 3) Finally count each emotion in the emotion list\n",
        "\n",
        "emotion_list = []\n",
        "with open('emotions.txt', 'r') as file:\n",
        "    for line in file:\n",
        "        clear_line = line.replace(\"\\n\", '').replace(\",\", '').replace(\"'\", '').strip()\n",
        "        word, emotion = clear_line.split(':')\n",
        "\n",
        "        if word in final_words:\n",
        "            emotion_list.append(emotion)\n",
        "\n",
        "print(emotion_list)\n",
        "w = Counter(emotion_list)\n",
        "print(w)\n",
        "\n",
        "fig, ax1 = plt.subplots()\n",
        "ax1.bar(w.keys(), w.values())\n",
        "fig.autofmt_xdate()\n",
        "plt.show()"
      ]
    }
  ]
}